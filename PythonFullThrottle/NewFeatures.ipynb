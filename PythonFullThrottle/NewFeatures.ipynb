{
 "cells": [
  {
   "cell_type": "markdown",
   "metadata": {
    "tags": []
   },
   "source": [
    "&copy; 2024 by Pearson Education, Inc. All Rights Reserved. The content in this notebook is based on the textbook [**Intro Python for Computer Science and Data Science**](https://amzn.to/2YU0QTJ) and our professional book [**Python for Programmers**](https://amzn.to/2VvdnxE) — Please do not purchase both. The professional book is a subset of the textbook."
   ]
  },
  {
   "cell_type": "markdown",
   "metadata": {},
   "source": [
    "**Note:** I am integrating new features from Python 3.8-3.12 into the chapter notebooks. New items I have not integrated yet are shown here."
   ]
  },
  {
   "cell_type": "markdown",
   "metadata": {},
   "source": [
    "# Python 3.8 Features"
   ]
  },
  {
   "cell_type": "markdown",
   "metadata": {},
   "source": [
    "##  New in Python 3.8: Assignment Expressions—Walrus Operator `:=`\n",
    "* Also called the “walrus operator”\n",
    "* **\"Try to limit use of the walrus operator to clean cases that reduce complexity and improve readability.\"** — From: https://docs.python.org/3/whatsnew/3.8.html\n",
    "* Consider the following code from Section 8.12.3, which we modified to use an `if` statement rather than a conditional expression:"
   ]
  },
  {
   "cell_type": "code",
   "execution_count": 14,
   "metadata": {},
   "outputs": [],
   "source": [
    "import re"
   ]
  },
  {
   "cell_type": "code",
   "execution_count": 15,
   "metadata": {},
   "outputs": [],
   "source": [
    "result = re.search('Python', 'Python is fun')"
   ]
  },
  {
   "cell_type": "code",
   "execution_count": 16,
   "metadata": {},
   "outputs": [
    {
     "name": "stdout",
     "output_type": "stream",
     "text": [
      "The matching text was \"Python\"\n"
     ]
    }
   ],
   "source": [
    "if result:\n",
    "    print(f'The matching text was \"{result.group()}\"')\n",
    "else:\n",
    "    print('not found')"
   ]
  },
  {
   "cell_type": "markdown",
   "metadata": {},
   "source": [
    "* Using `:=` enables you to combine the assignment into the `if` statement's condition\n",
    "* `result` receives either a match object or `None` if there is no match then the `if`...`else` statement executes accordingly"
   ]
  },
  {
   "cell_type": "code",
   "execution_count": 17,
   "metadata": {
    "tags": []
   },
   "outputs": [
    {
     "name": "stdout",
     "output_type": "stream",
     "text": [
      "The matching text was \"Python\"\n"
     ]
    }
   ],
   "source": [
    "if result := re.search('Python', 'Python is fun'):\n",
    "    print(f'The matching text was \"{result.group()}\"')\n",
    "else:\n",
    "    print('\"Python\" was not found')"
   ]
  },
  {
   "cell_type": "code",
   "execution_count": 18,
   "metadata": {},
   "outputs": [
    {
     "name": "stdout",
     "output_type": "stream",
     "text": [
      "\"fun!\" was not found\n"
     ]
    }
   ],
   "source": [
    "if result := re.search('fun!', 'Python is fun'):\n",
    "    print(f'The matching text was \"{result.group()}\"')\n",
    "else:\n",
    "    print('\"fun!\" was not found')"
   ]
  },
  {
   "cell_type": "markdown",
   "metadata": {},
   "source": [
    "* Some of the uses shown at https://docs.python.org/3/whatsnew/3.8.html:\n",
    "    * Assignment in a condition so you can then use the result in the subsequent suite\n",
    "    * Calling regular expression functions in conditions, then using the resulting match object (if there is one) in the subsequent suite\n",
    "    * Assignments in the conditions of sentinel controlled `while` loops (such as for reading from a file)—after a read, test if the sentinel was encountered and if not, process the read content in the suite\n",
    "    * Assignments in the condition of a list, dictionary or set comprehension's `if` filter clause, so you can then use the assigned value to create what’s inserted into the new list, dictionary or set"
   ]
  },
  {
   "cell_type": "markdown",
   "metadata": {},
   "source": [
    "# Python 3.9 Features"
   ]
  },
  {
   "cell_type": "markdown",
   "metadata": {},
   "source": [
    "## New in Python 3.9: Removing prefix/suffix on a string\n",
    "https://www.python.org/dev/peps/pep-0616/"
   ]
  },
  {
   "cell_type": "code",
   "execution_count": 1,
   "metadata": {},
   "outputs": [],
   "source": [
    "s = '<<<$$$>>>'"
   ]
  },
  {
   "cell_type": "code",
   "execution_count": 2,
   "metadata": {},
   "outputs": [
    {
     "data": {
      "text/plain": [
       "'$$$>>>'"
      ]
     },
     "execution_count": 2,
     "metadata": {},
     "output_type": "execute_result"
    }
   ],
   "source": [
    "s.removeprefix('<<<')"
   ]
  },
  {
   "cell_type": "code",
   "execution_count": 3,
   "metadata": {},
   "outputs": [
    {
     "data": {
      "text/plain": [
       "'<<<$$$'"
      ]
     },
     "execution_count": 3,
     "metadata": {},
     "output_type": "execute_result"
    }
   ],
   "source": [
    "s.removesuffix('>>>')"
   ]
  },
  {
   "cell_type": "markdown",
   "metadata": {},
   "source": [
    "<a id=\"matchcase\"/>\n"
   ]
  },
  {
   "cell_type": "markdown",
   "metadata": {
    "tags": []
   },
   "source": [
    "&copy; 2024 by Pearson Education, Inc. All Rights Reserved. The content in this notebook is based on the textbook [**Intro Python for Computer Science and Data Science**](https://amzn.to/2YU0QTJ) and our professional book [**Python for Programmers**](https://amzn.to/2VvdnxE) — Please do not purchase both. The professional book is a subset of the textbook."
   ]
  }
 ],
 "metadata": {
  "kernelspec": {
   "display_name": "Python 3 (ipykernel)",
   "language": "python",
   "name": "python3"
  },
  "language_info": {
   "codemirror_mode": {
    "name": "ipython",
    "version": 3
   },
   "file_extension": ".py",
   "mimetype": "text/x-python",
   "name": "python",
   "nbconvert_exporter": "python",
   "pygments_lexer": "ipython3",
   "version": "3.12.1"
  }
 },
 "nbformat": 4,
 "nbformat_minor": 4
}
